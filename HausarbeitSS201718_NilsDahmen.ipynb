{
 "cells": [
  {
   "cell_type": "markdown",
   "metadata": {},
   "source": [
    "## Eine konzeptionelle Einführung in neuronale Netze"
   ]
  },
  {
   "cell_type": "markdown",
   "metadata": {},
   "source": [
    "Der folgende Text soll eine konzeptionelle Einführung in neuronale Netze bieten. Nach der generellen Erklärung des Konzeptes wird ein einfaches Netz anhand eines Python-Codes programmiert.\n",
    "Als Arbeitsbeispiel dient hier ein Netz zur Erkennung handgeschriebener Ziffern. Diese Aufgabe ist das Standardanwendungsbeispiel für die Einführung in machine learning. Sie ist einerseits sehr intuitiv, andererseits sehr komplex. Für uns ist Ziffernerkennung keine schwere Aufgabe. Unser Gehirn bewältigt sie mehrmals am Tag so problemlos, dass wir meistens nicht mal etwas davon merken. Trotzdem können wir nicht sagen, wie *genau* wir diese Erkennung schaffen; und es wäre vermutlich für die meisten Menschen unmöglich, diesen Prozess in einem Algorithmus zu konkretisieren. Trotzdem kann sogar ein \"basales\" neuronales Netz diese Aufgabe gut bewältigen. Ein weiterer Vorteil dieses Beispieles ist, dass bereits ein einfach benutzbarer Datensatz für Trainings- und Testmengen existiert, die MNIST database of handwritten digits. Sie beinhaltet 70,000 Bilder handgeschriebener Ziffern. Die einzelnen Bilder sind 28x28 Pixel groß und monochrom. Wir werden sehen, dass keine aufwendige Umstrukturierung der Daten notwendig ist, um sie als Input für unser neuronales Netz zu benutzen."
   ]
  },
  {
   "cell_type": "markdown",
   "metadata": {},
   "source": [
    "### Die allgemeine Idee"
   ]
  },
  {
   "cell_type": "markdown",
   "metadata": {},
   "source": [
    "#### Die Netzwerkstruktur"
   ]
  },
  {
   "cell_type": "markdown",
   "metadata": {},
   "source": [
    "Die Idee, die hinter neuronalen Netzen steht, ist, einen Algorithmus zu produzieren, der aus einer großen Datenmenge, den Trainingsbeispielen, lernt. Wir hoffen, dass unser neuronales Netz, wenn wir ihm - in unserem Fall - 60,000 verschiedene Bilder von handgeschriebenen Ziffern zeigen, Muster erkennt und weitere Bilder handgeschriebener Ziffern klassifizieren kann.  \n",
    "Der kleinste Bestandteil eines neuronalen Netzes ist, wie der Name nahelegt, ein Neuron. Erst einmal reicht es, sich ein Neuron als etwas vorzustellen, dass eine Zahl speichert - konkret eine Zahl zwischen 0 und 1. Diese Zahl nennen wir die Aktivierung des Neurons.  \n",
    "Die einzelnen Neuronen des Netzwerkes sind in sogenannten Layern sortiert, sozusagen Vektoren von Neuronen. Das erste Layer ist das Input-Layer. In unserem Fall wird es 784 Neuronen enthalten, die die einzelnen Grauwerte der Pixel des zu klassifizierenden Bildes repräsentieren. Das letzte Layer, das Output-Layer, soll 10 Neuronen enthalten, von denen jeder repräsentiert, wie sicher sich das Netzwerk ist, dass es sich bei dem Bild im Input-Layer um eine bestimmte Zahl handelt. Unsere Hoffnung ist, dass, wenn wir das Bild einer 3 in das Input-Layer speisen (und das Netzwerk genug gelernt hat), die Aktivierung des vierten (vierten und nicht dritten, weil der erste Eintrag für 0 steht) Neurons im Output-Layer hoch ist und die Aktivierung aller anderen Neuronen niedrig.\n",
    "Zwischen dem Input- und dem Output-Layer liegen noch sogenannte Hidden Layer. Ihre Größe und Anzahl können wir selbst wählen und wir werden versuchen, ein wenig mit ihnen herumzuprobieren und beobachten, wie sich Änderungen dort auf die Effizienz des Netzwerkes auswirken.  \n",
    "Die Aktivierungen eines Layers sollen die Aktivierungen des nächsten Layers beeinflussen. Dafür wird jedes Layer mit dem darauf folgenden durch Kanten verbunden, jedes Neuron im ersten hat eine Kante zu jedem Neuron im zweiten Layer, dort wiederum hat jedes Neuron eine Kante zu jedem Neuron im dritten Layer und so weiter bis zum Output-Layer. Die Kanten sind nicht mehr als Zahlen, Gewichtungen oder weights genannt, die determinieren, wie die Aktivierungen in einem Layer aussehen, und zwar in Abhängigkeit der Aktivierungen des vorherigen Layers. Wir können uns die Kanten zwischen zwei Layern als eine Übergangsmatrix vom vorherigen zum nächsten Layer. Tatsächlich werden die Aktivierungen des nächsten Layers im Grunde so berechnet.  \n",
    "Außerdem bekommt jedes Neuron in den Layern hinter dem Input-Layer einen Bias, eine Zahl, die, grob gesagt, bestimmt, \"wie leicht\" es ist, die Aktivierung dieses bestimmten Neurons zu verändern. Unser Input-Layer wir nicht gebiased sein, da der Input möglichst unverändert verarbeitet werden soll.\n",
    "Wie genau berechnet jetzt sich die Aktivierung jedes Neurons des nächsten Layers aus den Aktivierungen des vorherigen Layers? Zuerst berechnen wir die Produkte aller Aktivierungen des vorherigen Layers und den Gewichtungen, die das Neuron, dem die Aktivierung gehört, mit dem Neuron, dessen Aktivierung wir berechnen wollen. Diese Produkte summieren wir auf. (Bis jetzt ist nicht mehr passiert als normale Matrix-Vektor-Multiplikation, wenn wir das vorherige Layer als Vektor und die Kanten zwischen den Layers als Übergangsmatrix interpretieren.) Zu dieser Summe addieren wir den Bias des Neurons, dessen Aktivierung wir berechnen wollen. Da wir wollen, dass die Aktivierung zwischen 0 und 1 liegt, wenden wir dann noch eine Funktion an, die das tut. Eine Funktion, die üblicherweise dafür benutzt wird, ist die Sigmoidfunktion:\n",
    "$$ \\sigma(x) = \\frac{1}{1 + e^{-x}}. $$\n",
    "  \n",
    "Die Sigmoidfunktion auf einen Vektor angewandt heißt nicht mehr, als sie auf jede Komponente des Vektors anzuwenden.\n",
    "Letztendlich ist die Formel für die Aktivierungen eines Layers l also:  \n",
    "  \n",
    "$$ a_l = \\sigma( W_{l-1->l} \\cdot a_{l-1} + b_l ). $$  \n",
    "  \n",
    " $ W_{l-1->l} $ ist hier die Übergangsmatrix zwischen Layer l-1 und Layer l, $a_{l-1}$ ist der Aktivierungsvektor des l-1-ten Layers und $b_l$ der Biasvektor des l-ten Layers.  \n",
    "Ein Neuron ist für uns jetzt nicht mehr nur etwas, das eine bestimmte Aktivierung hat, sondern eine Funktion, die alle Aktivierungen des vorherigen Layers in Abhängigkeit der Gewichtungen und einem Bias zu einer Zahl zwischen 0 und 1 verarbeitet. Und wirklich mehr als eine Funktion ist unser gesamtes neuronales Netz nicht! Der Input der Funktion ist ein Vektor von 784 Grauwerten, der dann Layer für Layer weiterverarbeitet wird, bis wir einen Output in der Form eines Aktivierungsvektors der Länge 10 bekommen. Diese Funktion ist natürlich abhängig von einer großen Menge an Parametern, nämlich den Gewichtungen und Biases der einzelnen Layer, aber mehr als eine solche Funktion ist unser Netz letztendlich nicht.  "
   ]
  },
  {
   "cell_type": "markdown",
   "metadata": {},
   "source": [
    "#### Der Lernprozess"
   ]
  },
  {
   "cell_type": "markdown",
   "metadata": {},
   "source": [
    "Wir wissen jetzt also, wie unser neuronales Netz einen Outputvektor in Abhängigkeit eines Pixelvektors und seiner Gewichtungen und Biases ausgibt. Doch wie können wir das Netz darauf trainieren, dass der Outputvektor so aussieht, wie wir gerne möchten, je nach dem, welche Ziffer wir auf dem Bild erkennen? Hier kommt die Idee von machine learning ins Spiel. Die Idee wird sein, dass wir dem Netz eine große Menge Trainingsbeispiele zeigen und es sie klassifizieren lassen. Anfangs wird diese Klassifikation natürlich noch sehr schlecht und ungenau ausfallen. Den resultierenden Output-Vektor vergleichen wir mit unserem erwarteten Output-Vektor und lassen das Netzwerk seine Gewichtungen uns Biases so anpassen, dass in Zukunft bei gleichem Input ein Output ausgegeben wird, der unserem erwarteten Output mehr ähnelt als der vorherige Output. Und hoffentlich, wenn wir dem Netz sehr viele Bilder zeigen, wird es irgendwann generelle Muster in den Bildern erkennen können, die es ihm erlauben, auch Bilder korrekt zu klassifizieren, die es noch nicht gesehen hat.  \n",
    "Zuerst initialisieren wir alle Gewichtungen und Biases zufällig. Natürlich wird der Output unseres Netzes (sehr wahrscheinlich) sehr schlecht sein. An dieser Stelle führen wir eine Funktion ein, die wir die Kostenfunktion des Netzes nennen. Sie soll uns, nachdem wir n Beispiele x getestet haben, ausgeben, \"wie schlecht\" das Netz arbeitet.\n",
    "$$ C(w, b) = \\frac{1}{2n} \\sum_x \\| y(x) - a\\|^2. $$\n",
    "w sind hier die Gewichtungen und b die Biases des Netzwerkes, x sind die Trainingsbeispiele und a ist der Output des Netzes. a hängt natürlich von w und b ab. y(x) ist der erwartete Output des Netzes, also wenn x das Bild einer 3 repräsentiert, ist $ y(x) = (0,0,0,1,0,0,0,0,0,0)^T $. $ \\|v\\| $ steht für die Länge des Vektors v. C nennen wir die * quadratische Kostenfunktion *.  \n",
    "Inwiefern macht es Sinn, diese Funktion so zu definieren? Zuerst einmal ist C nichtnegativ, das heißt C > 0, da jeder Summand nichtnegativ ist. Außerdem wird C groß sein, wenn y(x) und a in vielen der Trainingsbeispiele sehr unterschiedlich sind; und C wird klein, wenn y(x) und a oft ähnlich sind. Das Ziel unseres Lernprozesses wird es sein, C zu minimieren, das heißt, eine Konfiguration des Gewichtungen und Biases unseres Netzes zu finden, sodass C(w, b) möglichst klein ist.  \n",
    "Und das ist eigentlich alles, was hinter dem Lernprozess steckt! Wenn die Kostenfunktion des Netzwerkes gering wird, klassifiziert es die Trainingsbeispiele sehr wahrscheinlich ungefähr so, wie unser erwarteter Output ist. Dann können wir den Output des Netzes über eine Menge Testbeispiele, die kein Teil der Trainingsbeispiele waren, und beobachten, ob es \"gelernt\" hat, auch unbekannte Bilder zu klassifizieren."
   ]
  },
  {
   "cell_type": "markdown",
   "metadata": {},
   "source": [
    "#### Stochastischer Gradientenabstieg"
   ]
  },
  {
   "cell_type": "markdown",
   "metadata": {},
   "source": [
    "Der nächste Schritt ist also, einen Algorithmus zu finden, der das Minimum der Kostenfunktion ermittelt. Wir werden das Minimum nicht explizit ermittlen; das ist zwar manchmal möglich, aber nicht immer geeignet, vor allem in einer so hochdimensionalen Funktion wie der Kostenfunktion (Der Input sind ja alle Gewichtungen und Biases des Netzes). Was wir stattdessen machen werden, ist, zu schauen, \"in welche Richtung\" wir von unserem momentanen Punkt gehen müssen, damit die Funktion am schnellsten abnimmt. In dieser Richtung schauen wir wieder, in welche Richtung wir gehen müssen. Je öfter wir das machen, desto näher kommen wir an ein lokales Minimum der Funktion. Wenn wir dazu die Größe der Schritte proportional zur Stärke des Abstieges wählen, können wir auch nicht über das Minimum springen, sondern nähern uns von einer Seite immer weiter an. Das Bild, an das man dabei (in zwei oder drei Dimensionen) denken kann, ist ein Ball, der einen Berg herunter rollt. Das Bild ist zwar nicht hilfreich in so vielen Dimensionen, aber im Grunde ist die Idee die gleiche. Wir müssen wissen, wie wir die einzelnen Inputs der Funktion ändern müssen, damit der Output schnell kleiner wird. Nur ändern wir eben nicht eine oder zwei Koordinaten, sondern alle Gewichtungen und Biases.  \n",
    "Die mathematische Operation, die wir brauchen, ist der *Gradient*. Der Gradient einer Funktion ist der Vektor des \"steilsten\" Anstiegs der Funktion an einem bestimmten Punkt, und - wenig überraschend - ist der negative Gradient der Vektor des \"steilsten\" Abstieges. Der negative Gradient der Kostenfunktion gibt uns also die Änderungen an den Gewichtungen uns Biases, die wir vornehmen müssen, um die Kostenfunktion möglichst schnell zu minimieren. Den ermitteln wir, indem wir das Netzwerk ein Trainingsbeispiel klassifizieren lassen, den tatsächlichen Output mithilfe der Kostenfunktion mit dem erwarteten Output vergleichen, den Gradienten der Kostenfunktion ermitteln und anschließend die Gewichtungen und Biases entsprechend anpassen.  \n",
    "Der Algorithmus, der uns diesen Gradienten liefert, nennt sich *Backpropagation*. Ich werde hier nicht weiter auf Backpropagation eingehen, für unsere Zwecke reicht es, zu wissen, dass es den Algorithmus gibt und er den Gradienten der Kostenfunktion unseres Netzes  ausgibt. Wen die Mathematik hinter der Backpropagation interessiert, kann sich im zweiten Kapitel von [Nielsen (2015)](http://neuralnetworksanddeeplearning.com/chap2.html) informieren.  \n",
    "Letztendlich werden wir jedoch nicht nach jedem Trainingsbeispiel einen Schritt nach unten machen, sondern den durchschnittlichen Gradienten von einer bestimmten Anzahl Trainingbeispiele, ein Mini-Batch, ermitteln, ohne zwischen der Ermittlung des Gradienten das Netzwerk anzupassen, und die Gewichtungen und Biases entsprechend dem durchschnittlichen Gradienten anpassen. Der entscheidende Vorteil dieses Verfahrens, stochastischer Gradientenabstieg genannt, ist, dass es in der programmierten Realisierung wesentlich schneller läuft als wenn man für jedes Beispiel alle Gewichtungen und Biases anpassen würde."
   ]
  },
  {
   "cell_type": "markdown",
   "metadata": {},
   "source": [
    "#### Zusammenfassung\n",
    "Damit haben wir alles expliziert, was unser neuronales Netz ausmacht! Zusammenfassend ist unser Netz also ein Algorithmus, der einen Inputvektor über mehrere Übergangsmatrizen durch verschiedene Layer, deren Neuronen jeweils gebiast sind, verarbeitet und einen Outputvektor ausgibt, der anzeigt, als welche Ziffer das Netz das Bild des Inputvektors interpretiert. Der Output wird dann mit dem erwarteten Output verglichen, wir ermitteln über die Kostenfunktion \"wie falsch\" der Output des Netzes ist. Die Kostenfunktion wird mithilfe von Stochastischem Gradientenabstieg minimiert. Das heißt, dass die Gewichtungen und Biases in Abhängigkeit des Gradienten der Kostenfunktion einiger Trainingsbeispiele angepasst werden. Unsere Hoffnung ist, dass das Netz Muster in den Trainingsbeispielen erkennt, die sich auf weitere Beispiele verallgemeinern lassen, sodass es auch weitere Beispiele korrekt klassifizieren kann."
   ]
  },
  {
   "cell_type": "markdown",
   "metadata": {},
   "source": [
    "## Programmierung eines einfachen Netzes mit Python"
   ]
  },
  {
   "cell_type": "markdown",
   "metadata": {},
   "source": [
    "Im Folgenden werden wir mithilfe von Python ein einfaches neuronales Netz aufbauen. Wir werden es darauf trainieren, handgeschriebene Zahlen zu erkennen; auch wenn die Anwendung nicht darauf spezialisiert ist.  \n",
    "Python-, Numpy- und Matplotlib-Grundkenntnisse werden hier vorausgesetzt, sowie die Fähigkeit, unbekannte Funktionen mithilfe der entsprechenden Dokumentationen ([Python](https://docs.python.org/3/), [Numpy](https://docs.scipy.org/doc/), [Matplotlib](https://matplotlib.org/contents.html)) zu verstehen.  \n",
    "Der Code des Netzes wird sich stark an [Nielsens (2015)](http://neuralnetworksanddeeplearning.com/chap1.html) Code orientieren. Die meisten Funktionsnamen werden unverändert bleiben, sodass die Orientierung im Code leicht fallen sollte."
   ]
  },
  {
   "cell_type": "markdown",
   "metadata": {},
   "source": [
    "### Ein paar notwendige Funktionen vorweg ###"
   ]
  },
  {
   "cell_type": "markdown",
   "metadata": {},
   "source": [
    "#### Die \"*MNIST database of handwritten digits*\" ####"
   ]
  },
  {
   "cell_type": "markdown",
   "metadata": {},
   "source": [
    "Die [MNIST-Datenbank](http://yann.lecun.com/exdb/mnist/) ist eine von Yann LeCun, Corinna Cortes und Christopher J.C. Burges. zusammengestellte Datenbank mit 70,000 Schwarz-Weiß-Bildern von handgeschriebenen Ziffern mit dazugehörigen Labels, aufgeteilt in ein Trainingset mit 60,000 und ein Testset mit 10,000 Bildern und Labels.\n",
    "Die Ziffern in den einzelnen Sets stammen ungefähr zur Hälfte von Highschool-Schülern und zur Hälfte von MitarbeiterInnen des United States Census Bureaus. Geammelt wurden die Daten vom Unites States National Institute of Standards and Technology (NIST) und in zwei Sets, Special Database 1 (mit den von den Highschool-Schülern geschriebenen Ziffern) und Special Database 3 (mit den von den MitarbeiterInnen des Census Bureaus geschriebenen Ziffern) zusammengefasst. \n",
    "Mithilfe des Codes unten deklarieren wir vier Arrays: `x_train` und `x_test` beinhalten die 60,000 bzw. 10,000 Bilder aus dem Trainings- bzw. Testset. Konkret ist jeder Eintrag dieser Arrays ein Array mit 784 Integern von 0 bis 255. Jeder Eintrag repräsentiert den Grauwert eines Pixels des Bildes. `t_train` und `t_test` beinhalten die zu den Bildern gehörigen Ziffern als Integer. `x_train[0]` zum Beispiel ist das Bild einer 5, also ist `t_train[0]` = 5."
   ]
  },
  {
   "cell_type": "markdown",
   "metadata": {},
   "source": [
    "Zunächst importieren wir alle notwendigen Python-Bibliotheken und initialisieren die Trainings- und Test-Arrays."
   ]
  },
  {
   "cell_type": "code",
   "execution_count": 1,
   "metadata": {
    "collapsed": false
   },
   "outputs": [
    {
     "name": "stdout",
     "output_type": "stream",
     "text": [
      "Downloading train-images-idx3-ubyte.gz...\n",
      "Downloading t10k-images-idx3-ubyte.gz...\n",
      "Downloading train-labels-idx1-ubyte.gz...\n",
      "Downloading t10k-labels-idx1-ubyte.gz...\n",
      "Download complete.\n",
      "Save complete.\n"
     ]
    }
   ],
   "source": [
    "import mnist\n",
    "import numpy as np\n",
    "import random\n",
    "import matplotlib.pyplot as plt\n",
    "mnist.init()\n",
    "x_train, t_train, x_test, t_test = mnist.load()"
   ]
  },
  {
   "cell_type": "markdown",
   "metadata": {},
   "source": [
    "Zunächst einmal wollen wir eine Möglichkeit haben, uns unsere Zahlen anzeigen zu lassen. Wir benutzen dafür imshow aus matplotlib.pyplot.\n",
    "imshow benötigt aber nicht ein Array von der Länge 784 (wie die Arrays in `x_train` und `x_test`), sondern ein 28x28-Array mit den Pixelwerten. Die Konvertierung übernimmt die Funktion *bildconv*:"
   ]
  },
  {
   "cell_type": "code",
   "execution_count": 13,
   "metadata": {
    "collapsed": true
   },
   "outputs": [],
   "source": [
    "def bildconv(bild):\n",
    "    pixellist = []                                      # Wir erstellen eine leere Liste \"pixellist\".\n",
    "    for i in range(28):                                 \n",
    "        pixellist.append([])                            # Wir erstellen 28 Zeilen\n",
    "        for j in range(28):\n",
    "            pixellist[i].append(bild[i*28 + j])         # und füllen diese mit je 28 Einträgen aus dem ursprünglichen Array.\n",
    "    return pixellist                                    # 28x28-array bestehend aus 28 Zeilen mit 28 Werten/Spalten pro Zeile"
   ]
  },
  {
   "cell_type": "markdown",
   "metadata": {},
   "source": [
    "Den Output dieser Funktion können wir als Eingabewert für imshow aus matplotlib verwenden und \"manuell\" mit dem dazugehörigen Wert aus `t_train` vergleichen:"
   ]
  },
  {
   "cell_type": "code",
   "execution_count": 14,
   "metadata": {
    "collapsed": false
   },
   "outputs": [
    {
     "name": "stdout",
     "output_type": "stream",
     "text": [
      "In t_train steht, dass das ausgewählte Beispiel aus x_train eine 4 ist.\n"
     ]
    },
    {
     "data": {
      "image/png": "[encoded data removed]",
      "text/plain": [
       "<Figure size 432x288 with 1 Axes>"
      ]
     },
     "metadata": {
      "needs_background": "light"
     },
     "output_type": "display_data"
    }
   ],
   "source": [
    "imnumber = 2 # imnumber wird genutzt, um ein Beispiel aus dem Set x_train auszuwählen, dem an entsprechender Stelle in t_train die geschriebene Ganzzahl korrelliert.\n",
    "    \n",
    "imgplot = plt.imshow(bildconv(x_train[int(imnumber)]), cmap=\"gray\")\n",
    "print(\"In t_train steht, dass das ausgewählte Beispiel aus x_train eine\",t_train[int(imnumber)],\"ist.\")"
   ]
  },
  {
   "cell_type": "markdown",
   "metadata": {},
   "source": [
    "Als nächstes brauchen wir eine Funktion, die den erwarteten Output-Vektor des Netzes in Abhängigkeit der erwarteten Zahl ausgibt. In t_train und t_test stehen ja Integer. Unser Netz wird aber einen Vektor der Größe 10 haben, wobei der n-te Eintrag die Zahl n repräsentiert. Um die Einträge in t_train und t_test also mit den Outputs unseres Netzes vergleichen zu können, müssen wir einen Vektor der Größe 10 erstellen, dessen Einträge $ v_t $ für $t\\neq n$  0 sind und für $t = n$ 1."
   ]
  },
  {
   "cell_type": "code",
   "execution_count": 15,
   "metadata": {
    "collapsed": false
   },
   "outputs": [],
   "source": [
    "def vectorized_result(j):\n",
    "    temp = np.zeros(10)\n",
    "    temp[j] = 1.0\n",
    "    return temp # 10-Komponenten-Vektor mit dem Wert 1 an der Stelle j"
   ]
  },
  {
   "cell_type": "markdown",
   "metadata": {},
   "source": [
    "Noch zwei notwendige Funktionen: Die Sigmoidfunktion, die wir anstatt einem Threshold benutzen werden, um die Aktivierungen der Neuronen zwischen 0 und 1 zu halten, und ihre Ableitung, die für die Backpropagation benötigt wird. Wir benutzen also keine binären Aktivierungen.\n",
    "\n",
    "$$ Sigmoid(x) = \\frac{1}{1 + e^{-x}} $$\n",
    "\n",
    "Da exp(-x) für kleine x sehr schnell sehr groß wird und Overflow in Python verursacht, benutzen wir eine andere Schreibweise der Sigmoidfunktion. Durch Erweitern des Bruches mit $ e^x $ erhalten wir:\n",
    "\n",
    "$$ Sigmoid(x) = \\frac{e^x}{e^x+1} $$\n",
    "\n",
    "Für kleine x ist die untere Schreibweise numerisch stabiler."
   ]
  },
  {
   "cell_type": "code",
   "execution_count": 16,
   "metadata": {
    "collapsed": false
   },
   "outputs": [],
   "source": [
    "def sigmoid(z):                             # Die Sigmoidfunktion, angewandt auf jeden Eintrag eines Vektors\n",
    "    temp = []\n",
    "    for i in z:\n",
    "        temp.append(sigmoidint(i))\n",
    "    return temp\n",
    "def sigmoidint(z):                          # Die Sigmoidfunktion, angewandt auf eine einzelnen Integer\n",
    "    if z >= 0:\n",
    "        return 1 / (1 + np.exp(-z))\n",
    "    else:\n",
    "        return np.exp(z) / (1 + np.exp(z))\n",
    "\n",
    "def sigmoid_prime(z):                       # Die erste Ableitung der Sigmoidfunktion, wie oben\n",
    "    temp = []\n",
    "    for i in z:\n",
    "        temp.append(sigmoidint(i)*(1-sigmoidint(i)))\n",
    "    return temp\n",
    "\n",
    "def sigmoid_primeint(z):\n",
    "    return sigmoidint(z)*(1-sigmoidint(z))"
   ]
  },
  {
   "cell_type": "markdown",
   "metadata": {},
   "source": [
    "### Die Funktionen des Netzwerkes\n",
    "Wir werden das Netz als Klasse *Network* aufbauen. Im Folgenden werde ich die Methoden der Klasse näher erklären."
   ]
  },
  {
   "cell_type": "markdown",
   "metadata": {},
   "source": [
    "#### *\\_\\_init\\_\\_(self, sizes)* :\n",
    "Das Array sizes besteht aus den Größen der einzelnen Layer unseres Netzwerkes. Dementsprechend werden die Gewichtungen und Biases zufällig gesetzt:\n",
    "```python\n",
    "def __init__(self, sizes):\n",
    "        \n",
    "        self.num_layers = len(sizes)\n",
    "        self.sizes = sizes\n",
    "        self.biases = [np.random.randn(i) for i in sizes[1:]]       \n",
    "        self.weights = [np.random.randn(i, j) for j, i in zip(sizes[:-1], sizes[1:])]                                                                     \n",
    "```  \n",
    "\n",
    "`biases` ist jetzt eine Liste von Arrays, die die (zufällig gesetzten) Biases pro Layer repräsentieren. Die Länge von `biases` entspricht der Länge von `sizes`, die Länge jedes einzelnen Arrays in `biases` entspricht dem entsprechenden Eintrag in `sizes`. So haben wir eine Liste, die alle Biases des Netzes \"layerweise\" speichert. `biases[1]` ist also eine Liste, die die Biases der Neuronen im zweiten Layer unseres Netzes enthält.  \n",
    "Unsere Gewichtungen speichern wir in ähnlicher Weise in `weights`. `weights` ist eine Liste von Matrizen, die ebenfalls layerweise gespeichert werden. Bei `weights[1]` findet sich also die Matrix, die das zweite mit dem dritten layer verbindet."
   ]
  },
  {
   "cell_type": "markdown",
   "metadata": {},
   "source": [
    "#### *feedforward(self, a)*\n",
    "Diese Funktion gibt den Output des Netzes in Abhängigkeit eines Inputs a aus. Wir iterieren über alle weights und biases und speichern mit jeder Iteration a die Aktivierungen des jeweils nächsten Layers. Vor der ersten Iteration repräsentiert a einfach nur das Input-Layer, nach der ersten Itreation repräsentiert a das zweite Layer, und so weiter:\n",
    "```python\n",
    "def feedforward(self, a):\n",
    "        for b, w in zip(self.biases, self.weights):\n",
    "            a = sigmoid(np.add(np.dot(w, a),b))\n",
    "        return a\n",
    "```"
   ]
  },
  {
   "cell_type": "markdown",
   "metadata": {},
   "source": [
    "#### *SGD(self, training_data, epochs, mini_batch_size, eta)*\n",
    "`SGD` ist die äußerste Funktion des Lernprozesses des Netzwerkes. `SGD` ist die Funktion, die wir ausführen werden, um das Netzwerk auf den Trainingsdaten `training_data` zu trainieren. Als `training_data` wird hier eine Liste von Tupeln übergeben, die den Input des Netzes und den erwarteten Output des Netzes repräsentieren.  \n",
    "Zuerst mischen wir die Trainingsdaten, dann bilden wir Mini-Batches der Größe `mini_batch_size`:\n",
    "```python\n",
    "random.shuffle(training_data)\n",
    "            mini_batches = [training_data[k:k+mini_batch_size] for k in range(0,n,mini_batch_size)]\n",
    "```\n",
    "Anschließend updaten wir die Gewichtungen und Biases des Netzes für jedes der gerade konsturierten Mini-Batches mithilfe der Funktion `update_mini_batch` (siehe dort). Diesen Vorgang wiederholen wir sooft, wie in `epochs`angegeben. Außerdem wird nach jeder Epoche eine Bestätigungsmeldung gedruckt, um zu sehen, dass das Programm noch läuft.  \n",
    "Mit `eta` übergibt man die *Lernrate*. Sie bestimmt, wie groß die Anpassungen sind, die wir im Stochastischen Gradientenabstieg machen. In dieser Funktion tun wir noch nichts damit, sondern übergeben `eta` nur an `update_mini_batch`.\n",
    "```python\n",
    "def SGD(self, training_data, epochs, mini_batch_size, eta):\n",
    "        \n",
    "        n = len(training_data)\n",
    "        \n",
    "        for j in range(epochs):\n",
    "            random.shuffle(training_data)\n",
    "            mini_batches = [training_data[k:k+mini_batch_size] for k in range(0,n,mini_batch_size)]\n",
    "            for mini_batch in mini_batches:\n",
    "                self.update_mini_batch(mini_batch, eta)\n",
    "            print(\"Epoche\",j+1,\"beendet.\")\n",
    "```"
   ]
  },
  {
   "cell_type": "markdown",
   "metadata": {},
   "source": [
    "#### *update_mini_batch(self, mini_batch, eta)*\n",
    "`update_mini_batch` passt die Gewichtungen und Biases des Netzwerkes abhängig von einem einzelnen Mini-Batch an:\n",
    "```python\n",
    "        nabla_b = [np.zeros(b.shape) for b in self.biases]\n",
    "        nabla_w = [np.zeros(w.shape) for w in self.weights]\n",
    "```\n",
    "Hier initialisieren wir zwei Listen, die die gleiche Form haben wie `weights` und `biases`.\n",
    "\n",
    "```python\n",
    "        for x, y in mini_batch:\n",
    "            delta_nabla_b, delta_nabla_w = self.backprop(x, y)\n",
    "                                                                             \n",
    "            nabla_b = [nb+dnb for nb, dnb in zip(nabla_b, delta_nabla_b)]\n",
    "            nabla_w = [nw+dnw for nw, dnw in zip(nabla_w, delta_nabla_w)]\n",
    "```\n",
    "Diese for-Schleife geht das aktuelle Mini-Batch durch. Die Zeile `delta_nabla_b, delta_nabla_w = self.backprop(x, y)` macht die meiste Arbeit der Backpropagation. Die Funktion `backprop` gibt den **positiven** Gradienten der Kostenfunktion für ein Trainingsbeispiel aus. In `nabla_w` bzw. `nabla_b` addieren wir diese Gradienten für das eine Mini-Batch auf.  \n",
    "Für eine Erklärung des Codes von `backprop`, siehe [Nielsen (2015)](http://neuralnetworksanddeeplearning.com/chap2.html), Kap. 2.\n",
    "\n",
    "```python\n",
    "        self.weights = [w-(eta/len(mini_batch))*nw for w, nw in zip(self.weights, nabla_w)]\n",
    "        self.biases = [b-(eta/len(mini_batch))*nb for b, nb in zip(self.biases, nabla_b)]\n",
    "```\n",
    "Als nächstes subtrahieren wir den Durchschnitt der oben aufsummierten Gradienten von den momentanen Gewichtungen und Biases, nachdem wir sie mit `eta` multipliziert haben.\n",
    "\n",
    "\n",
    "```python\n",
    "def update_mini_batch(self, mini_batch, eta):\n",
    "        nabla_b = [np.zeros(b.shape) for b in self.biases]\n",
    "        nabla_w = [np.zeros(w.shape) for w in self.weights]\n",
    "        \n",
    "        for x, y in mini_batch:\n",
    "            delta_nabla_b, delta_nabla_w = self.backprop(x, y)\n",
    "                                                                                \n",
    "            nabla_b = [nb+dnb for nb, dnb in zip(nabla_b, delta_nabla_b)]\n",
    "            nabla_w = [nw+dnw for nw, dnw in zip(nabla_w, delta_nabla_w)]\n",
    "                                                                                \n",
    "        self.weights = [w-(eta/len(mini_batch))*nw for w, nw in zip(self.weights, nabla_w)]\n",
    "        self.biases = [b-(eta/len(mini_batch))*nb for b, nb in zip(self.biases, nabla_b)]\n",
    "            \n",
    "```"
   ]
  },
  {
   "cell_type": "markdown",
   "metadata": {},
   "source": [
    "#### *evaluate(self, test_data)*\n",
    "Diese Funktion geht die Testbeispiele durch und gibt aus, wie viele davon das Netz korrekt klassifiziert. Der höchste Eintrag des Output-Vektors wird hier als die Klassifizierung des Netzes interpretiert.\n",
    "```python\n",
    "    def evaluate(self, test_data):\n",
    "        test_results = [(np.argmax(self.feedforward(x)), np.argmax(y)) for (x, y) in test_data]\n",
    "        return sum(int(x == y) for (x, y) in test_results)\n",
    "```"
   ]
  },
  {
   "cell_type": "markdown",
   "metadata": {},
   "source": [
    "#### *cost_derivative(self, output_activations, y)*"
   ]
  },
  {
   "cell_type": "markdown",
   "metadata": {},
   "source": [
    "Diese Funktion wird benutzt, um die partiellen Ableitungen der Kostenfunktion der Neuronen im letzten Layer zu berechnen. Wir benötigen sie nur für die Backpropagation:\n",
    "```python\n",
    "def cost_derivative(self, output_activations, y):\n",
    "        return (output_activations-y)\n",
    "```"
   ]
  },
  {
   "cell_type": "markdown",
   "metadata": {},
   "source": [
    "Das ist auch alles für den Code der Netzwerk-Klassse:"
   ]
  },
  {
   "cell_type": "code",
   "execution_count": 17,
   "metadata": {
    "collapsed": false
   },
   "outputs": [],
   "source": [
    "class Network(object):\n",
    "\n",
    "    def __init__(self, sizes):\n",
    "        \n",
    "        self.num_layers = len(sizes)\n",
    "        self.sizes = sizes\n",
    "        self.biases = [np.random.randn(i) for i in sizes[1:]]       \n",
    "        \n",
    "        self.weights = [np.random.randn(i, j) for j, i in zip(sizes[:-1], sizes[1:])]  \n",
    "                                                \n",
    "    \n",
    "    def feedforward(self, a):\n",
    "        for b, w in zip(self.biases, self.weights):\n",
    "            a = sigmoid(np.add(np.dot(w, a),b))\n",
    "        return a\n",
    "    \n",
    "    \n",
    "    def SGD(self, training_data, epochs, mini_batch_size, eta):\n",
    "        \n",
    "        n = len(training_data)\n",
    "        \n",
    "        for j in range(epochs):\n",
    "            random.shuffle(training_data)\n",
    "            mini_batches = [training_data[k:k+mini_batch_size] for k in range(0,n,mini_batch_size)]\n",
    "            for mini_batch in mini_batches:\n",
    "                self.update_mini_batch(mini_batch, eta)\n",
    "            print(\"Epoche\",j+1,\"beendet.\")\n",
    "    \"\"\"Wir wenden Stochastic Gradient Descent auf das Netzwerk an.\"\"\"\n",
    "                \n",
    "    def update_mini_batch(self, mini_batch, eta):\n",
    "        nabla_b = [np.zeros(b.shape) for b in self.biases]\n",
    "        nabla_w = [np.zeros(w.shape) for w in self.weights]\n",
    "        \n",
    "        for x, y in mini_batch:\n",
    "            delta_nabla_b, delta_nabla_w = self.backprop(x, y)\n",
    "                                                                                \n",
    "            nabla_b = [nb+dnb for nb, dnb in zip(nabla_b, delta_nabla_b)]\n",
    "            nabla_w = [nw+dnw for nw, dnw in zip(nabla_w, delta_nabla_w)]\n",
    "\n",
    "        self.weights = [w-(eta/len(mini_batch))*nw for w, nw in zip(self.weights, nabla_w)]\n",
    "        self.biases = [b-(eta/len(mini_batch))*nb for b, nb in zip(self.biases, nabla_b)]\n",
    "                                                                             \n",
    "            \n",
    "    \n",
    "    def evaluate(self, test_data):\n",
    "        test_results = [(np.argmax(self.feedforward(x)), np.argmax(y)) for (x, y) in test_data]\n",
    "        return sum(int(x == y) for (x, y) in test_results)\n",
    "                                                                                \n",
    "    \n",
    "    def backprop(self, x, y):\n",
    "        \"\"\"Diese Funktion gibt den Gradienten der Kostenfunktion in Bezug auf die weights und biases aus. Die Ausgabe findet als Tupel (nabla_b, nabla_w)\n",
    "        statt, in der gleichen Form wie weights und biases. So können wir den Gradienten in update_mini_batch intuitiv verwenden.\"\"\"\n",
    "        deltas = [np.zeros(i) for i in self.sizes[0:]] # deltas speichert die Fehler, den das Netz pro Layer produziert.\n",
    "        nabla_w = [np.zeros(w.shape) for w in self.weights]\n",
    "        # feedforward\n",
    "        activation = x\n",
    "        activations = [x] # In activations speichern wir die Aktivierungen der einzelnen Layer.\n",
    "        zs = [] # In zs speichern wir die einzelnen Layer, bevor die Sigmoid-Funktion angewandt wird.\n",
    "        for b, w in zip(self.biases, self.weights):\n",
    "            z = np.dot(w, activation)+b\n",
    "            zs.append(z)\n",
    "            activation = sigmoid(z)\n",
    "            activations.append(activation)\n",
    "        # backward pass\n",
    "        deltas[-1] = self.cost_derivative(activations[-1], y) * sigmoid_prime(zs[-1])\n",
    "        for l in range(2, self.num_layers):\n",
    "            z = zs[-l]\n",
    "            sp = sigmoid_prime(z)\n",
    "            deltas[-l] = np.dot(np.transpose(self.weights[-l+1]), deltas[-l+1]) * sp\n",
    "\n",
    "        for l in range(len(nabla_w)):\n",
    "            nabla_w[l] = np.outer(deltas[l+1], np.asarray(activations[l]).transpose())\n",
    "            \n",
    "        return (deltas[1:], nabla_w)\n",
    "    \n",
    "    def cost_derivative(self, output_activations, y):\n",
    "        return (output_activations-y)\n",
    "    \n",
    "    \n",
    "        "
   ]
  },
  {
   "cell_type": "markdown",
   "metadata": {},
   "source": [
    "Als nächstes müssen wir `training_data` und `test_data` initialisieren. Die Input-Vektoren müssen noch durch 255 geteilt werden, da `x_train` und `x_test` Einträge zwischen 0 und 255 haben, wir aber Inputs zwischen 0 und 1 erwarten. `vectorized_result` wurde oben schon erklärt."
   ]
  },
  {
   "cell_type": "code",
   "execution_count": 18,
   "metadata": {
    "collapsed": false
   },
   "outputs": [],
   "source": [
    "training_data = []\n",
    "test_data = []\n",
    "\n",
    "for i, j in zip(x_train, t_train):\n",
    "    training_data.append((i/255,vectorized_result(j)))\n",
    "    \n",
    "for i, j in zip(x_test, t_test):\n",
    "    test_data.append((i/255,vectorized_result(j)))\n"
   ]
  },
  {
   "cell_type": "markdown",
   "metadata": {},
   "source": [
    "Dann sind wir jetzt fertig, unser erstes Netzwerk zu erstellen. Versuchen wir es mit einem Hidden Layer mit 20 Neuronen. Außerdem können wir uns den noch völlig zufälligen Output des Netzes zusammen mit dem dazugehörigen Bild aus x_train ausgeben."
   ]
  },
  {
   "cell_type": "code",
   "execution_count": 19,
   "metadata": {
    "collapsed": false
   },
   "outputs": [
    {
     "name": "stdout",
     "output_type": "stream",
     "text": [
      "Mein Output-Vektor lautet: [0.3436923823959011, 0.12085544668826313, 0.9280060673539101, 0.6784690054513262, 0.9700366810258868, 0.11128251044477146, 0.7903364077973608, 0.7973866860878795, 0.24135219158614366, 0.9873984550024564]\n",
      "Ich bin mir zu 98.73984550024564 % sicher, dass das eine 9 ist. Eigentlich ist es eine 0 .\n"
     ]
    },
    {
     "data": {
      "image/png": "[encoded data removed]",
      "text/plain": [
       "<Figure size 432x288 with 1 Axes>"
      ]
     },
     "metadata": {
      "needs_background": "light"
     },
     "output_type": "display_data"
    }
   ],
   "source": [
    "net = Network([784, 20, 10])\n",
    "example = 1\n",
    "outp = net.feedforward(x_train[example])\n",
    "print(\"Mein Output-Vektor lautet:\", outp)\n",
    "print(\"Ich bin mir zu\", np.amax(outp)*100,\"% sicher, dass das eine\",np.argmax(outp),\"ist. Eigentlich ist es eine\", t_train[example],\".\")\n",
    "imgplot = plt.imshow(bildconv(x_train[example]), cmap=\"gray\")"
   ]
  },
  {
   "cell_type": "markdown",
   "metadata": {},
   "source": [
    "Versuchen wir nun, das Netzwerk mithilfe der MNIST-Training-Data zu trainieren. Versuchen wir es mit 10 Epochen, einer Mini-Batch-Größe von 10 und einer Lernrate eta = 3.0. Anschließend lassen wir uns ausgeben, wie gut das Netzwerk gelernt hat. Das Training kann hier einige Minuten dauern."
   ]
  },
  {
   "cell_type": "code",
   "execution_count": 20,
   "metadata": {
    "collapsed": false
   },
   "outputs": [
    {
     "name": "stdout",
     "output_type": "stream",
     "text": [
      "Epoche 1 beendet.\n",
      "Epoche 2 beendet.\n",
      "Epoche 3 beendet.\n",
      "Epoche 4 beendet.\n",
      "Epoche 5 beendet.\n",
      "Epoche 6 beendet.\n",
      "Epoche 7 beendet.\n",
      "Epoche 8 beendet.\n",
      "Epoche 9 beendet.\n",
      "Epoche 10 beendet.\n",
      "Ich habe von 10000 Beispielen im Test-Set 9355 richtig klassifiziert. Das entspricht einer Genauigkeit von 93.55 %.\n"
     ]
    }
   ],
   "source": [
    "net.SGD(training_data, epochs = 10, mini_batch_size = 10, eta = 3.0)\n",
    "\n",
    "evaluation = net.evaluate(test_data)\n",
    "\n",
    "print(\"Ich habe von\",len(test_data),\"Beispielen im Test-Set\",evaluation,\"richtig klassifiziert. Das entspricht einer Genauigkeit von\",(evaluation/len(test_data))*100,\"%.\")\n"
   ]
  },
  {
   "cell_type": "markdown",
   "metadata": {},
   "source": [
    "Nun können wir uns auch den Output des Netzes für ein einzelnes Beispiel ausgeben."
   ]
  },
  {
   "cell_type": "code",
   "execution_count": 21,
   "metadata": {
    "collapsed": false
   },
   "outputs": [
    {
     "name": "stdout",
     "output_type": "stream",
     "text": [
      "[4.565601548520264e-09, 0.00023307031395709542, 8.288282250549109e-06, 0.3572625156925892, 2.393826283859824e-05, 1.7640706941194546e-07, 7.31821767183534e-08, 4.2240130831259875e-06, 0.3061502595120801, 0.8668669133024435]\n",
      "Ich bin mir zu 86.68669133024434 % sicher, dass das eine 9 ist.\n",
      "Eigentlich ist es eine 9 .\n"
     ]
    },
    {
     "data": {
      "image/png": "[encoded data removed]",
      "text/plain": [
       "<Figure size 432x288 with 1 Axes>"
      ]
     },
     "metadata": {
      "needs_background": "light"
     },
     "output_type": "display_data"
    }
   ],
   "source": [
    "example = 7\n",
    "outp = net.feedforward(x_test[example])\n",
    "print(outp)\n",
    "print(\"Ich bin mir zu\", np.amax(outp)*100,\"% sicher, dass das eine\",np.argmax(outp),\"ist.\")\n",
    "imgplot = plt.imshow(bildconv(x_test[example]), cmap=\"gray\")\n",
    "print(\"Eigentlich ist es eine\",t_test[example],\".\")"
   ]
  },
  {
   "cell_type": "markdown",
   "metadata": {},
   "source": [
    "In der folgenden Codezelle kann mit den Netzwerkkonfigurationen etwas herumexperimentiert werden und beobachtet werden, wie sich die Anzahl und Größe der Hidden Layer auf die Performance des Netzes und die Dauer des Lernprozesses auswirkt:"
   ]
  },
  {
   "cell_type": "code",
   "execution_count": null,
   "metadata": {
    "collapsed": false
   },
   "outputs": [],
   "source": [
    "net2 = Network([784, 300, 200, 10])\n",
    "\n",
    "net2.SGD(training_data, epochs = 2, mini_batch_size = 10, eta = 3.0)\n",
    "\n",
    "evaluation = net2.evaluate(test_data)\n",
    "\n",
    "print(\"Ich habe von\",len(test_data),\"Beispielen im Test-Set\",evaluation,\"richtig klassifiziert. Das entspricht einer Genauigkeit von\",(evaluation/len(test_data))*100,\"%.\")\n"
   ]
  },
  {
   "cell_type": "code",
   "execution_count": null,
   "metadata": {
    "collapsed": false
   },
   "outputs": [],
   "source": [
    "example = 9888\n",
    "outp = net2.feedforward(x_test[example])\n",
    "print(outp)\n",
    "print(\"Ich bin mir zu\", np.amax(outp)*100,\"% sicher, dass das eine\",np.argmax(outp),\"ist.\")\n",
    "imgplot = plt.imshow(bildconv(x_test[example]), cmap=\"gray\")\n",
    "print(\"Eigentlich ist es eine\",t_test[example],\".\")"
   ]
  },
  {
   "cell_type": "markdown",
   "metadata": {},
   "source": [
    "Mit diesem relativ einfachen Netz können wir schon überraschend gute Ergebnisse erzielen. Es kann zwar noch verfeinert werden (siehe dazu [Nielsen, Kap. 3](http://neuralnetworksanddeeplearning.com/chap3.html)), aber die simple Aufgabe, die wir ihm gestellt haben, kann es einigermaßen gut lösen.  \n",
    "Die relativ basale Idee, die wir hier angewandt haben, kann aber auch noch verfeinert werden. Vor allem für Sprach- und Musikerkennung bieten sich sogenannte LSTM-Netze (*long short-term memory*-Netze) an. Die Idee hierbei ist, einen Teil des Outputs zu verwenden, um den nächsten Input zu verarbeiten. Zum Beispiel, wenn es darum geht, ein Konzept - wie ein Gesprächsthema - über eine gewisse Zeitdistanz im Gedächtnis zu behalten, kann diese Idee Früchte tragen. Außerdem gibt es noch einige andere Arten neuronaler Netze, die für verschiedene Aufgaben mehr oder weniger geeignet sind.  \n",
    "Die meisten dieser Netze beruhen - wie unser Netz auch - auf der Idee des *supervised learning*. Das heißt, dass der Output des Netzes verglichen wird mit einer Erwartung, die wir an das Netz haben. Alternativ dazu gibt es *unsupervised learning*, bei dem ein Netz Muster in den Trainingsdaten erkennt, ohne dass eine Erwartung an das Netz gestellt wird."
   ]
  },
  {
   "cell_type": "markdown",
   "metadata": {},
   "source": [
    "## Literatur\n",
    "\n",
    "* LeCun, Y., Cortes, C. and Burges, C. (2018). MNIST handwritten digit database, Yann LeCun, Corinna Cortes and Chris Burges. URL: http://yann.lecun.com/exdb/mnist/ \\[Zuletzt aufgerufen am 05.10.2018\\].  \n",
    "* Nielsen, M. (2018). Neural Networks and Deep Learning. URL: http://neuralnetworksanddeeplearning.com/ \\[Zuletzt aufgerufen am 5 Oct. 2018\\].\n",
    "* Docs.python.org. (2018). 3.7.1rc1 Documentation. URL: https://docs.python.org/3/ \\[Zuletzt aufgerufen am 5 Oct. 2018\\].\n",
    "* Docs.scipy.org. (2018). Numpy and Scipy Documentation — Numpy and Scipy documentation. URL: https://docs.scipy.org/doc/ \\[Zuletzt aufgerufen am 5 Oct. 2018\\].\n",
    "* Matplotlib.org. (2018). Overview — Matplotlib 3.0.0 documentation. URL: https://matplotlib.org/contents.html \\[Zuletzt aufgerufen am 5 Oct. 2018\\]."
   ]
  }
 ],
 "metadata": {
  "kernelspec": {
   "display_name": "py3pack",
   "language": "python",
   "name": "py3pack"
  },
  "language_info": {
   "codemirror_mode": {
    "name": "ipython",
    "version": 3
   },
   "file_extension": ".py",
   "mimetype": "text/x-python",
   "name": "python",
   "nbconvert_exporter": "python",
   "pygments_lexer": "ipython3",
   "version": "3.5.2"
  }
 },
 "nbformat": 4,
 "nbformat_minor": 2
}
